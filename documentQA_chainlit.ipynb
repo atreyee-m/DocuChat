{
 "cells": [
  {
   "cell_type": "code",
   "execution_count": 1,
   "metadata": {},
   "outputs": [],
   "source": [
    "from langchain.text_splitter import RecursiveCharacterTextSplitter\n",
    "from langchain.document_loaders import PyPDFDirectoryLoader\n",
    "from langchain_community.embeddings import BedrockEmbeddings\n",
    "from langchain_community.vectorstores.faiss import FAISS\n",
    "# from langchain.llms.bedrock import Bedrock\n",
    "\n",
    "# from langchain.llms.bedrock import Bedrock\n",
    "from langchain.memory import ChatMessageHistory, ConversationBufferMemory\n",
    "from langchain.chains import RetrievalQA, ConversationalRetrievalChain\n",
    "\n",
    "\n"
   ]
  },
  {
   "cell_type": "code",
   "execution_count": 34,
   "metadata": {},
   "outputs": [],
   "source": [
    "faiss_index = \"/Users/atreyeemukherjee/Documents/side projects/documentQA/faiss_index\"\n",
    "data = \"/Users/atreyeemukherjee/Library/Mobile Documents/com~apple~CloudDocs/side projects/data\""
   ]
  },
  {
   "cell_type": "code",
   "execution_count": 37,
   "metadata": {},
   "outputs": [],
   "source": [
    "def load_pdfs(chunk_size=3000, chunk_overlap=100):\n",
    "\n",
    "    # load the pdf documents\n",
    "    loader=PyPDFDirectoryLoader(data)\n",
    "    documents=loader.load()\n",
    "\n",
    "    # split the documents into chunks\n",
    "    text_splitter = RecursiveCharacterTextSplitter(chunk_size=chunk_size, \n",
    "                                                   chunk_overlap=chunk_overlap)\n",
    "    docs = text_splitter.split_documents(documents=documents)\n",
    "    return docs"
   ]
  },
  {
   "cell_type": "code",
   "execution_count": 24,
   "metadata": {},
   "outputs": [],
   "source": [
    "from langchain_community.embeddings.ollama import OllamaEmbeddings\n",
    "from langchain.vectorstores import FAISS\n",
    "\n",
    "def create_vector_store(docs):\n",
    "    # Use Ollama embeddings instead of Bedrock\n",
    "    ollama_embeddings = OllamaEmbeddings(model=\"llama3\")  # Specify your Ollama model\n",
    "\n",
    "    # Create and save the vector store using FAISS\n",
    "    vector_store = FAISS.from_documents(docs, ollama_embeddings)\n",
    "    vector_store.save_local(\"/Users/atreyeemukherjee/Documents/side projects/documentQA/faiss_index\")\n",
    "    \n",
    "    return None\n"
   ]
  },
  {
   "cell_type": "code",
   "execution_count": 38,
   "metadata": {},
   "outputs": [],
   "source": [
    "docs = load_pdfs()\n",
    "create_vector_store(docs)"
   ]
  },
  {
   "cell_type": "code",
   "execution_count": 40,
   "metadata": {},
   "outputs": [],
   "source": [
    "from langchain_community.embeddings.ollama import OllamaEmbeddings\n",
    "from langchain_community.llms.ollama import Ollama  # This is the LLM for generating responses\n",
    "from langchain.vectorstores import FAISS\n",
    "from langchain.chains import ConversationalRetrievalChain\n",
    "from langchain.memory import ChatMessageHistory, ConversationBufferMemory"
   ]
  },
  {
   "cell_type": "code",
   "execution_count": 41,
   "metadata": {},
   "outputs": [
    {
     "data": {
      "text/plain": [
       "Ollama(model='llama3')"
      ]
     },
     "execution_count": 41,
     "metadata": {},
     "output_type": "execute_result"
    }
   ],
   "source": [
    "def create_llm():\n",
    "    llm = Ollama(model=\"llama3\")\n",
    "    return llm\n",
    "create_llm()"
   ]
  },
  {
   "cell_type": "code",
   "execution_count": 42,
   "metadata": {},
   "outputs": [],
   "source": [
    "llama3_embeddings = OllamaEmbeddings(model=\"llama3\")\n",
    "vector_store = FAISS.load_local(faiss_index, llama3_embeddings, allow_dangerous_deserialization=True)\n",
    "\n",
    "# Create memory history for the conversation\n",
    "message_history = ChatMessageHistory()\n",
    "memory = ConversationBufferMemory(\n",
    "    memory_key=\"chat_history\",\n",
    "    output_key=\"answer\",\n",
    "    chat_memory=message_history,\n",
    "    return_messages=True,\n",
    ")\n",
    "\n",
    "# Create the QA chain with ConversationalRetrievalChain\n",
    "llm = create_llm()  # Use the LLM instead of the embeddings here\n",
    "qa_chain = ConversationalRetrievalChain.from_llm(\n",
    "    llm=llm, \n",
    "    chain_type='stuff', \n",
    "    retriever=vector_store.as_retriever(search_type='similarity', search_kwargs={\"k\": 3}),\n",
    "    return_source_documents=True,\n",
    "    memory=memory\n",
    ")"
   ]
  },
  {
   "cell_type": "code",
   "execution_count": 44,
   "metadata": {},
   "outputs": [
    {
     "name": "stdout",
     "output_type": "stream",
     "text": [
      "2024-10-05 14:00:13 - Created default config file at /Users/atreyeemukherjee/Library/Mobile Documents/com~apple~CloudDocs/side projects/.chainlit/config.toml\n",
      "2024-10-05 14:00:13 - Created default translation directory at /Users/atreyeemukherjee/Library/Mobile Documents/com~apple~CloudDocs/side projects/.chainlit/translations\n",
      "2024-10-05 14:00:13 - Created default translation file at /Users/atreyeemukherjee/Library/Mobile Documents/com~apple~CloudDocs/side projects/.chainlit/translations/mr.json\n",
      "2024-10-05 14:00:13 - Created default translation file at /Users/atreyeemukherjee/Library/Mobile Documents/com~apple~CloudDocs/side projects/.chainlit/translations/bn.json\n",
      "2024-10-05 14:00:13 - Created default translation file at /Users/atreyeemukherjee/Library/Mobile Documents/com~apple~CloudDocs/side projects/.chainlit/translations/ta.json\n",
      "2024-10-05 14:00:13 - Created default translation file at /Users/atreyeemukherjee/Library/Mobile Documents/com~apple~CloudDocs/side projects/.chainlit/translations/zh-CN.json\n",
      "2024-10-05 14:00:13 - Created default translation file at /Users/atreyeemukherjee/Library/Mobile Documents/com~apple~CloudDocs/side projects/.chainlit/translations/ml.json\n",
      "2024-10-05 14:00:13 - Created default translation file at /Users/atreyeemukherjee/Library/Mobile Documents/com~apple~CloudDocs/side projects/.chainlit/translations/kn.json\n",
      "2024-10-05 14:00:13 - Created default translation file at /Users/atreyeemukherjee/Library/Mobile Documents/com~apple~CloudDocs/side projects/.chainlit/translations/gu.json\n",
      "2024-10-05 14:00:13 - Created default translation file at /Users/atreyeemukherjee/Library/Mobile Documents/com~apple~CloudDocs/side projects/.chainlit/translations/hi.json\n",
      "2024-10-05 14:00:13 - Created default translation file at /Users/atreyeemukherjee/Library/Mobile Documents/com~apple~CloudDocs/side projects/.chainlit/translations/te.json\n",
      "2024-10-05 14:00:13 - Created default translation file at /Users/atreyeemukherjee/Library/Mobile Documents/com~apple~CloudDocs/side projects/.chainlit/translations/he-IL.json\n",
      "2024-10-05 14:00:13 - Created default translation file at /Users/atreyeemukherjee/Library/Mobile Documents/com~apple~CloudDocs/side projects/.chainlit/translations/en-US.json\n"
     ]
    }
   ],
   "source": [
    "import chainlit as cl\n",
    "from langchain.vectorstores import FAISS\n",
    "from langchain.memory import ChatMessageHistory, ConversationBufferMemory\n",
    "from langchain.chains import ConversationalRetrievalChain\n",
    "from langchain_community.embeddings.ollama import OllamaEmbeddings\n",
    "from langchain_community.llms.ollama import Ollama\n",
    "\n",
    "@cl.on_chat_start\n",
    "async def create_qa_chain():\n",
    "\n",
    "    # Load Llama 3 model for the LLM\n",
    "    llm = Ollama(model=\"llama3\")  # Load Llama 3 as the LLM\n",
    "\n",
    "    # Load embeddings and vector store with Llama 3 embeddings\n",
    "    llama3_embeddings = OllamaEmbeddings(model=\"llama3\")\n",
    "    vector_store = FAISS.load_local('faiss_index', llama3_embeddings, allow_dangerous_deserialization=True)\n",
    "    \n",
    "    # Create memory history for conversation context\n",
    "    message_history = ChatMessageHistory()\n",
    "    memory = ConversationBufferMemory(\n",
    "        memory_key=\"chat_history\",\n",
    "        output_key=\"answer\",\n",
    "        chat_memory=message_history,\n",
    "        return_messages=True,\n",
    "    )\n",
    "\n",
    "    # Create the QA chain with ConversationalRetrievalChain\n",
    "    qa_chain = ConversationalRetrievalChain.from_llm(\n",
    "        llm=llm, \n",
    "        chain_type='stuff', \n",
    "        retriever=vector_store.as_retriever(search_type='similarity', search_kwargs={\"k\": 3}),\n",
    "        return_source_documents=True,\n",
    "        memory=memory\n",
    "    )\n",
    "    \n",
    "    # Add custom messages to the user interface\n",
    "    msg = cl.Message(content=\"Loading the bot...\")\n",
    "    await msg.send()\n",
    "    msg.content = \"Hi, Welcome to the QA Chatbot! Please ask your question.\"\n",
    "    await msg.update()\n",
    "    \n",
    "    # Store the QA chain in the user session\n",
    "    cl.user_session.set('qa_chain', qa_chain)\n"
   ]
  },
  {
   "cell_type": "code",
   "execution_count": 46,
   "metadata": {},
   "outputs": [],
   "source": [
    "import re\n",
    "import chainlit as cl\n",
    "\n",
    "@cl.on_message\n",
    "async def generate_response(query):\n",
    "    qa_chain = cl.user_session.get('qa_chain')\n",
    "\n",
    "    res = await qa_chain.acall(query.content, callbacks=[cl.AsyncLangchainCallbackHandler(\n",
    "        stream_final_answer=True, \n",
    "        )])\n",
    "\n",
    "    # extract results and source documents\n",
    "    result, source_documents = res['answer'], res['source_documents']\n",
    "\n",
    "    # Extract all values associated with the 'metadata' key\n",
    "    source_documents = str(source_documents)\n",
    "    metadata_values = re.findall(r\"metadata={'source': '([^']*)', 'page': (\\d+)}\", source_documents)\n",
    "\n",
    "    # Convert metadata_values into a single string\n",
    "    pattern = r'PDF Documents|\\\\'\n",
    "    metadata_string = \"\\n\".join([f\"Source: {re.sub(pattern, '', source)}, page: {page}\" for source, page in metadata_values])\n",
    "\n",
    "    # add metadata (i.e., sources) to the results\n",
    "    result += f'\\n\\n{metadata_string}'\n",
    "\n",
    "    # send the generated response to the user\n",
    "    await cl.Message(content=result).send()"
   ]
  }
 ],
 "metadata": {
  "kernelspec": {
   "display_name": "documentqa",
   "language": "python",
   "name": "python3"
  },
  "language_info": {
   "codemirror_mode": {
    "name": "ipython",
    "version": 3
   },
   "file_extension": ".py",
   "mimetype": "text/x-python",
   "name": "python",
   "nbconvert_exporter": "python",
   "pygments_lexer": "ipython3",
   "version": "3.12.7"
  }
 },
 "nbformat": 4,
 "nbformat_minor": 2
}
